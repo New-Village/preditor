{
 "cells": [
  {
   "cell_type": "markdown",
   "metadata": {},
   "source": [
    "# Sample Prediction Model"
   ]
  },
  {
   "cell_type": "markdown",
   "metadata": {},
   "source": [
    "## Set Variables\n",
    "***"
   ]
  },
  {
   "cell_type": "code",
   "execution_count": 1,
   "metadata": {},
   "outputs": [],
   "source": [
    "# Load Data Variables\n",
    "explanatory_variable = [\"sex\", \"age\", \"odds\"]\n",
    "\n",
    "# Grid Search Variables\n",
    "score = \"recall\" # recall / precision\n",
    "params = {\"kernel\":[\"rbf\"], \"C\":[1, 10, 100]}\n",
    "\n",
    "# Model Name\n",
    "model_title = \"sample\""
   ]
  },
  {
   "cell_type": "markdown",
   "metadata": {},
   "source": [
    "## Create Model\n",
    "***\n",
    "#### Load Analysis Data\n",
    "Load data from result table, then add calculated variables."
   ]
  },
  {
   "cell_type": "code",
   "execution_count": 2,
   "metadata": {},
   "outputs": [
    {
     "name": "stdout",
     "output_type": "stream",
     "text": [
      "<class 'pandas.core.frame.DataFrame'>\n",
      "Index: 159504 entries, 2015030101012012100032 to 2018100212122015106167\n",
      "Data columns (total 6 columns):\n",
      "target     159504 non-null bool\n",
      "age        159504 non-null int64\n",
      "odds       159504 non-null float64\n",
      "gelding    159504 non-null uint8\n",
      "female     159504 non-null uint8\n",
      "male       159504 non-null uint8\n",
      "dtypes: bool(1), float64(1), int64(1), uint8(3)\n",
      "memory usage: 4.3+ MB\n"
     ]
    }
   ],
   "source": [
    "from umap.uhelper import pd_result\n",
    "import numpy as np\n",
    "import pandas as pd\n",
    "\n",
    "def load_analysis_data(training, exp):\n",
    "    # Load explanatory variables\n",
    "    df = pd_result(exp, training)\n",
    "    \n",
    "    # convert sex val to dummy vals\n",
    "    dmy_sex = pd.get_dummies(df.sex)\n",
    "    df = pd.concat([df, dmy_sex], axis=1)\n",
    "    df = df.drop(\"sex\", axis=1)\n",
    "    df = df.rename(columns={\"セ\": \"gelding\", \"牝\": \"female\", \"牡\": \"male\"})\n",
    "    \n",
    "    # Create and concat objection variables (<3 is False, 3< is True)\n",
    "    if training:\n",
    "        results = pd_result([\"rank\"], training)\n",
    "        results[\"target\"] = np.where(results[\"rank\"]<=3, False, True)\n",
    "        results = results.drop(\"rank\", axis=1)        \n",
    "        df = pd.concat([results, df], axis=1, sort=True)\n",
    "    \n",
    "    # Remove missing data\n",
    "    df = df.dropna()   \n",
    "    return df\n",
    "\n",
    "# Load entry data (Past data)\n",
    "df = load_analysis_data(True, explanatory_variable)\n",
    "df.info()"
   ]
  },
  {
   "cell_type": "markdown",
   "metadata": {},
   "source": [
    "#### Train Prediction Model\n",
    "Split data and training"
   ]
  },
  {
   "cell_type": "code",
   "execution_count": 3,
   "metadata": {},
   "outputs": [],
   "source": [
    "from sklearn.model_selection import train_test_split\n",
    "\n",
    "# Split dataframe to training data and test data\n",
    "X = df.drop([\"target\"], axis=1)\n",
    "y = df.target\n",
    "X_train, X_test, y_train, y_test = train_test_split(X, y, random_state=0)"
   ]
  },
  {
   "cell_type": "code",
   "execution_count": 4,
   "metadata": {},
   "outputs": [
    {
     "name": "stdout",
     "output_type": "stream",
     "text": [
      "Fitting 5 folds for each of 3 candidates, totalling 15 fits\n"
     ]
    },
    {
     "name": "stderr",
     "output_type": "stream",
     "text": [
      "[Parallel(n_jobs=-1)]: Using backend LokyBackend with 4 concurrent workers.\n",
      "[Parallel(n_jobs=-1)]: Done   5 tasks      | elapsed: 78.5min\n",
      "[Parallel(n_jobs=-1)]: Done  10 out of  15 | elapsed: 192.6min remaining: 96.3min\n",
      "[Parallel(n_jobs=-1)]: Done  12 out of  15 | elapsed: 478.6min remaining: 119.6min\n",
      "[Parallel(n_jobs=-1)]: Done  15 out of  15 | elapsed: 675.3min finished\n"
     ]
    },
    {
     "name": "stdout",
     "output_type": "stream",
     "text": [
      "\n",
      "+ Best Parameter:\n",
      "\n",
      "SVC(C=10, cache_size=200, class_weight='balanced', coef0=0.0,\n",
      "  decision_function_shape='ovr', degree=3, gamma='scale', kernel='rbf',\n",
      "  max_iter=-1, probability=False, random_state=None, shrinking=True,\n",
      "  tol=0.001, verbose=False)\n",
      "\n",
      "+ Classification Report:\n",
      "\n",
      "              precision    recall  f1-score   support\n",
      "\n",
      "       False       0.40      0.78      0.53      8273\n",
      "        True       0.92      0.70      0.80     31603\n",
      "\n",
      "   micro avg       0.72      0.72      0.72     39876\n",
      "   macro avg       0.66      0.74      0.66     39876\n",
      "weighted avg       0.82      0.72      0.74     39876\n",
      "\n",
      "\n",
      "+ Confusion Matrix:\n",
      "\n"
     ]
    },
    {
     "data": {
      "image/png": "[encoded data removed]",
      "text/plain": [
       "<Figure size 432x288 with 1 Axes>"
      ]
     },
     "metadata": {
      "needs_background": "light"
     },
     "output_type": "display_data"
    }
   ],
   "source": [
    "import matplotlib.pyplot as plt\n",
    "from sklearn.model_selection import GridSearchCV\n",
    "from mlxtend.plotting import plot_confusion_matrix\n",
    "from sklearn.metrics import confusion_matrix, classification_report\n",
    "from sklearn.svm import SVC\n",
    "%matplotlib inline\n",
    "\n",
    "svc = SVC(gamma=\"scale\", class_weight=\"balanced\")\n",
    "clf = GridSearchCV(svc, params, cv=5, scoring=score, n_jobs=-1, verbose=10)\n",
    "clf.fit(X_train, y_train)\n",
    "\n",
    "print(\"\\n+ Best Parameter:\\n\")\n",
    "print(clf.best_estimator_)\n",
    "\n",
    "print(\"\\n+ Classification Report:\\n\")\n",
    "y_test, y_pred = y_test, clf.predict(X_test)\n",
    "print(classification_report(y_test, y_pred))\n",
    "\n",
    "print(\"\\n+ Confusion Matrix:\\n\")\n",
    "cnf_matrix = confusion_matrix(y_test, y_pred)\n",
    "fig, ax = plot_confusion_matrix(cnf_matrix)\n",
    "plt.style.use('seaborn-dark')\n",
    "plt.show()"
   ]
  },
  {
   "cell_type": "code",
   "execution_count": 7,
   "metadata": {},
   "outputs": [
    {
     "data": {
      "text/plain": [
       "<QuerySet [{'title': 'sample', 'method': 'SVC', 'recall': 0.778, 'precision': 0.405, 'note': \"SVC(C=10, cache_size=200, class_weight='balanced', coef0=0.0,\\n  decision_function_shape='ovr', degree=3, gamma='scale', kernel='rbf',\\n  max_iter=-1, probability=False, random_state=None, shrinking=True,\\n  tol=0.001, verbose=False)\"}]>"
      ]
     },
     "execution_count": 7,
     "metadata": {},
     "output_type": "execute_result"
    }
   ],
   "source": [
    "from sklearn.metrics import confusion_matrix\n",
    "\n",
    "tp, fn, fp, tn = confusion_matrix(y_test, y_pred).ravel()\n",
    "\n",
    "p = Pmodel()\n",
    "p.title = model_title\n",
    "p.model_bin = clf\n",
    "p.method = \"SVC\"\n",
    "p.columns = ','.join(explanatory_variable)\n",
    "p.recall = round(tp / (tp + fn), 3)\n",
    "p.precision = round(tp / (tp + fp), 3)\n",
    "p.note = clf.best_estimator_\n",
    "p.save()\n",
    "\n",
    "Pmodel.objects.filter(title=p.title).values(\"title\", \"method\", \"recall\", \"precision\", \"note\")"
   ]
  },
  {
   "cell_type": "markdown",
   "metadata": {},
   "source": [
    "## Apply Model\n",
    "***\n",
    "#### Load Analysis Data\n",
    "Load data from result table, then add calculated variables."
   ]
  },
  {
   "cell_type": "code",
   "execution_count": 1,
   "metadata": {},
   "outputs": [],
   "source": [
    "# Load model\n",
    "p = Pmodel.objects.get(pk=model_title)\n",
    "cols = p.columns.split(',')\n",
    "clf = p.model_bin"
   ]
  },
  {
   "cell_type": "code",
   "execution_count": 2,
   "metadata": {},
   "outputs": [],
   "source": [
    "from umap.uhelper import pd_result\n",
    "import numpy as np\n",
    "import pandas as pd\n",
    "\n",
    "def load_analysis_data(training, exp):\n",
    "    # Load explanatory variables\n",
    "    df = pd_result(exp, training)\n",
    "    \n",
    "    # convert sex val to dummy vals\n",
    "    dmy_sex = pd.get_dummies(df.sex)\n",
    "    df = pd.concat([df, dmy_sex], axis=1)\n",
    "    df = df.drop(\"sex\", axis=1)\n",
    "    df = df.rename(columns={\"セ\": \"gelding\", \"牝\": \"female\", \"牡\": \"male\"})\n",
    "    \n",
    "    # Create and concat objection variables (<3 is False, 3< is True)\n",
    "    if training:\n",
    "        results = pd_result([\"rank\"], training)\n",
    "        results[\"target\"] = np.where(results[\"rank\"]<=3, False, True)\n",
    "        results = results.drop(\"rank\", axis=1)        \n",
    "        df = pd.concat([results, df], axis=1, sort=True)\n",
    "    \n",
    "    # Remove missing data\n",
    "    df = df.dropna()   \n",
    "    return df\n",
    "\n",
    "# Load entry data (Past data)\n",
    "entry = load_analysis_data(False, cols)\n",
    "#df.info()"
   ]
  },
  {
   "cell_type": "code",
   "execution_count": 3,
   "metadata": {},
   "outputs": [],
   "source": [
    "import pandas as pd\n",
    "\n",
    "# Concat Entry data and Result Data\n",
    "# NOTE: 'Id like to get prediction result of PAST and FUTURE races , so I'll do below command.\n",
    "df = load_analysis_data(True, cols)\n",
    "df = df.drop([\"target\"], axis=1)\n",
    "df = pd.concat([df, entry], sort=True)"
   ]
  },
  {
   "cell_type": "markdown",
   "metadata": {},
   "source": [
    "#### Apply Model"
   ]
  },
  {
   "cell_type": "code",
   "execution_count": 4,
   "metadata": {},
   "outputs": [
    {
     "data": {
      "text/html": [
       "<div>\n",
       "<style scoped>\n",
       "    .dataframe tbody tr th:only-of-type {\n",
       "        vertical-align: middle;\n",
       "    }\n",
       "\n",
       "    .dataframe tbody tr th {\n",
       "        vertical-align: top;\n",
       "    }\n",
       "\n",
       "    .dataframe thead th {\n",
       "        text-align: right;\n",
       "    }\n",
       "</style>\n",
       "<table border=\"1\" class=\"dataframe\">\n",
       "  <thead>\n",
       "    <tr style=\"text-align: right;\">\n",
       "      <th></th>\n",
       "      <th>age</th>\n",
       "      <th>female</th>\n",
       "      <th>gelding</th>\n",
       "      <th>male</th>\n",
       "      <th>odds</th>\n",
       "      <th>expect</th>\n",
       "    </tr>\n",
       "    <tr>\n",
       "      <th>key</th>\n",
       "      <th></th>\n",
       "      <th></th>\n",
       "      <th></th>\n",
       "      <th></th>\n",
       "      <th></th>\n",
       "      <th></th>\n",
       "    </tr>\n",
       "  </thead>\n",
       "  <tbody>\n",
       "    <tr>\n",
       "      <th>2013020101012010100303</th>\n",
       "      <td>3</td>\n",
       "      <td>1</td>\n",
       "      <td>0</td>\n",
       "      <td>0</td>\n",
       "      <td>183.6</td>\n",
       "      <td>False</td>\n",
       "    </tr>\n",
       "    <tr>\n",
       "      <th>2013020101012010101023</th>\n",
       "      <td>3</td>\n",
       "      <td>1</td>\n",
       "      <td>0</td>\n",
       "      <td>0</td>\n",
       "      <td>106.1</td>\n",
       "      <td>False</td>\n",
       "    </tr>\n",
       "    <tr>\n",
       "      <th>2013020101012010101355</th>\n",
       "      <td>3</td>\n",
       "      <td>1</td>\n",
       "      <td>0</td>\n",
       "      <td>0</td>\n",
       "      <td>3.5</td>\n",
       "      <td>True</td>\n",
       "    </tr>\n",
       "    <tr>\n",
       "      <th>2013020101012010101877</th>\n",
       "      <td>3</td>\n",
       "      <td>1</td>\n",
       "      <td>0</td>\n",
       "      <td>0</td>\n",
       "      <td>24.2</td>\n",
       "      <td>False</td>\n",
       "    </tr>\n",
       "    <tr>\n",
       "      <th>2013020101012010102642</th>\n",
       "      <td>3</td>\n",
       "      <td>1</td>\n",
       "      <td>0</td>\n",
       "      <td>0</td>\n",
       "      <td>61.3</td>\n",
       "      <td>False</td>\n",
       "    </tr>\n",
       "  </tbody>\n",
       "</table>\n",
       "</div>"
      ],
      "text/plain": [
       "                        age  female  gelding  male   odds  expect\n",
       "key                                                              \n",
       "2013020101012010100303    3       1        0     0  183.6   False\n",
       "2013020101012010101023    3       1        0     0  106.1   False\n",
       "2013020101012010101355    3       1        0     0    3.5    True\n",
       "2013020101012010101877    3       1        0     0   24.2   False\n",
       "2013020101012010102642    3       1        0     0   61.3   False"
      ]
     },
     "execution_count": 4,
     "metadata": {},
     "output_type": "execute_result"
    }
   ],
   "source": [
    "# Apply model\n",
    "y = clf.predict(df)\n",
    "exp = pd.Series(y, index=df.index, name='expect')\n",
    "\n",
    "# Concat toggled prediction result to dataframe\n",
    "df = pd.concat([df, ~exp], axis=1)\n",
    "df.head()"
   ]
  },
  {
   "cell_type": "markdown",
   "metadata": {},
   "source": [
    "#### Delete & Insert Predction Resules"
   ]
  },
  {
   "cell_type": "code",
   "execution_count": 6,
   "metadata": {},
   "outputs": [
    {
     "data": {
      "application/vnd.jupyter.widget-view+json": {
       "model_id": "9817ca2f7e334460ad238e89bc302c81",
       "version_major": 2,
       "version_minor": 0
      },
      "text/plain": [
       "HBox(children=(IntProgress(value=0, max=286812), HTML(value='')))"
      ]
     },
     "metadata": {},
     "output_type": "display_data"
    },
    {
     "name": "stdout",
     "output_type": "stream",
     "text": [
      "\n"
     ]
    }
   ],
   "source": [
    "from django.db import transaction\n",
    "from tqdm._tqdm_notebook import tqdm_notebook\n",
    "\n",
    "@transaction.atomic\n",
    "def insert_prediction(_df):\n",
    "    for index, row in tqdm_notebook(_df.iterrows(), total=_df.shape[0]):\n",
    "        exp = Expect()\n",
    "        exp.result = Result.objects.get(pk=index)\n",
    "        exp.pm_name=model_title\n",
    "        exp.clf_result=row.expect\n",
    "        exp.save()\n",
    "\n",
    "tqdm_notebook.pandas()\n",
    "# Delete existing\n",
    "Expect.objects.filter(pm_name=model_title).delete()\n",
    "# Insert Prediction Results\n",
    "insert_prediction(df)"
   ]
  },
  {
   "cell_type": "markdown",
   "metadata": {},
   "source": [
    "## Evaluate Model\n",
    "***\n",
    "#### Load Expect Data\n",
    "Load data from expect table by month."
   ]
  },
  {
   "cell_type": "code",
   "execution_count": 5,
   "metadata": {},
   "outputs": [
    {
     "data": {
      "text/html": [
       "<div>\n",
       "<style scoped>\n",
       "    .dataframe tbody tr th:only-of-type {\n",
       "        vertical-align: middle;\n",
       "    }\n",
       "\n",
       "    .dataframe tbody tr th {\n",
       "        vertical-align: top;\n",
       "    }\n",
       "\n",
       "    .dataframe thead th {\n",
       "        text-align: right;\n",
       "    }\n",
       "</style>\n",
       "<table border=\"1\" class=\"dataframe\">\n",
       "  <thead>\n",
       "    <tr style=\"text-align: right;\">\n",
       "      <th></th>\n",
       "      <th>expect_count</th>\n",
       "      <th>hit_count</th>\n",
       "      <th>hit_rate</th>\n",
       "      <th>pay_amount</th>\n",
       "      <th>refund_amount</th>\n",
       "      <th>return_rate</th>\n",
       "    </tr>\n",
       "    <tr>\n",
       "      <th>race_dt</th>\n",
       "      <th></th>\n",
       "      <th></th>\n",
       "      <th></th>\n",
       "      <th></th>\n",
       "      <th></th>\n",
       "      <th></th>\n",
       "    </tr>\n",
       "  </thead>\n",
       "  <tbody>\n",
       "    <tr>\n",
       "      <th>2017-12-23</th>\n",
       "      <td>108</td>\n",
       "      <td>21</td>\n",
       "      <td>19.44</td>\n",
       "      <td>10800</td>\n",
       "      <td>9700</td>\n",
       "      <td>89.81</td>\n",
       "    </tr>\n",
       "    <tr>\n",
       "      <th>2017-12-24</th>\n",
       "      <td>107</td>\n",
       "      <td>19</td>\n",
       "      <td>17.76</td>\n",
       "      <td>10700</td>\n",
       "      <td>8760</td>\n",
       "      <td>81.87</td>\n",
       "    </tr>\n",
       "    <tr>\n",
       "      <th>2017-12-28</th>\n",
       "      <td>109</td>\n",
       "      <td>20</td>\n",
       "      <td>18.35</td>\n",
       "      <td>10900</td>\n",
       "      <td>11580</td>\n",
       "      <td>106.24</td>\n",
       "    </tr>\n",
       "    <tr>\n",
       "      <th>2018-01-06</th>\n",
       "      <td>121</td>\n",
       "      <td>19</td>\n",
       "      <td>15.70</td>\n",
       "      <td>12100</td>\n",
       "      <td>8200</td>\n",
       "      <td>67.77</td>\n",
       "    </tr>\n",
       "    <tr>\n",
       "      <th>2018-01-07</th>\n",
       "      <td>122</td>\n",
       "      <td>18</td>\n",
       "      <td>14.75</td>\n",
       "      <td>12200</td>\n",
       "      <td>10500</td>\n",
       "      <td>86.07</td>\n",
       "    </tr>\n",
       "  </tbody>\n",
       "</table>\n",
       "</div>"
      ],
      "text/plain": [
       "            expect_count  hit_count  hit_rate  pay_amount  refund_amount  \\\n",
       "race_dt                                                                    \n",
       "2017-12-23           108         21     19.44       10800           9700   \n",
       "2017-12-24           107         19     17.76       10700           8760   \n",
       "2017-12-28           109         20     18.35       10900          11580   \n",
       "2018-01-06           121         19     15.70       12100           8200   \n",
       "2018-01-07           122         18     14.75       12200          10500   \n",
       "\n",
       "            return_rate  \n",
       "race_dt                  \n",
       "2017-12-23        89.81  \n",
       "2017-12-24        81.87  \n",
       "2017-12-28       106.24  \n",
       "2018-01-06        67.77  \n",
       "2018-01-07        86.07  "
      ]
     },
     "execution_count": 5,
     "metadata": {},
     "output_type": "execute_result"
    }
   ],
   "source": [
    "import pandas as pd\n",
    "from datetime import datetime, timedelta\n",
    "\n",
    "# Get Race date in the last year \n",
    "from_dt = datetime.now() - timedelta(weeks=53)\n",
    "races = Race.objects.filter(result_flg=True, race_dt__gte=from_dt).order_by('race_dt').distinct('race_dt').values_list('race_dt', flat=True)\n",
    "\n",
    "summary_list = list()\n",
    "for day in races:\n",
    "    results = Result.objects.filter(expect__clf_result=True, expect__pm_name=model_title, race__race_dt=day).exclude(rank=0).values(\"rank\", \"odds\")\n",
    "    expect_cnt = len(results)\n",
    "    hit_cnt = len([result for result in results if result[\"rank\"] == 1])\n",
    "    hit_rate = round(hit_cnt/expect_cnt * 100, 2)\n",
    "    pay_amt = len([result for result in results]) * 100\n",
    "    refund_amt = int(sum([result[\"odds\"] * 100 for result in results if result[\"rank\"] == 1]))\n",
    "    rtn_rate = round(refund_amt / pay_amt * 100, 2)\n",
    "    summary_list.append([day, expect_cnt, hit_cnt, hit_rate, pay_amt, refund_amt, rtn_rate])\n",
    "\n",
    "summary = pd.DataFrame(summary_list, columns=[\"race_dt\", \"expect_count\", \"hit_count\", \"hit_rate\", \"pay_amount\", \"refund_amount\", \"return_rate\"])\n",
    "summary = summary.set_index(\"race_dt\")\n",
    "summary.head()"
   ]
  },
  {
   "cell_type": "code",
   "execution_count": 7,
   "metadata": {},
   "outputs": [
    {
     "name": "stdout",
     "output_type": "stream",
     "text": [
      "Hit Rate: 17.15 %\n",
      "Payment: ¥1663700 / Refund: ¥1377140 / Return Rate: 82.56 %\n"
     ]
    },
    {
     "data": {
      "text/plain": [
       "<matplotlib.axes._subplots.AxesSubplot at 0x7fefe7b1fa90>"
      ]
     },
     "execution_count": 7,
     "metadata": {},
     "output_type": "execute_result"
    },
    {
     "data": {
      "image/png": "[encoded data removed]",
      "text/plain": [
       "<Figure size 1152x432 with 1 Axes>"
      ]
     },
     "metadata": {},
     "output_type": "display_data"
    }
   ],
   "source": [
    "import matplotlib.pyplot as plt\n",
    "import matplotlib\n",
    "%matplotlib inline\n",
    "\n",
    "# Set Japanese Font\n",
    "plt.style.use('ggplot') \n",
    "matplotlib.rcParams[\"font.family\"] = \"IPAGothic\"\n",
    "matplotlib.rcParams[\"font.size\"] = 9\n",
    "\n",
    "print(\"Hit Rate: \"+str(round(summary[\"hit_rate\"].mean(), 2))+\" %\")\n",
    "print(\"Payment: ¥\"+str(summary[\"pay_amount\"].sum()), end=\"\")\n",
    "print(\" / Refund: ¥\"+str(summary[\"refund_amount\"].sum()), end=\"\")\n",
    "print(\" / Return Rate: \"+str(round(summary[\"return_rate\"].mean(), 2))+\" %\")\n",
    "p = Pmodel.objects.get(pk=model_title)\n",
    "p.roi = round(summary[\"return_rate\"].mean(), 2)\n",
    "p.save()\n",
    "\n",
    "summary[\"return_rate\"].plot(figsize=(16,6), alpha=0.5)"
   ]
  }
 ],
 "metadata": {
  "kernelspec": {
   "display_name": "Django Shell-Plus",
   "language": "python",
   "name": "django_extensions"
  },
  "language_info": {
   "codemirror_mode": {
    "name": "ipython",
    "version": 3
   },
   "file_extension": ".py",
   "mimetype": "text/x-python",
   "name": "python",
   "nbconvert_exporter": "python",
   "pygments_lexer": "ipython3",
   "version": "3.6.5"
  }
 },
 "nbformat": 4,
 "nbformat_minor": 2
}
