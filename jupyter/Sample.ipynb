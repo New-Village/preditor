{
 "cells": [
  {
   "cell_type": "markdown",
   "metadata": {},
   "source": [
    "# オッズの予測精度評価\n",
    "人気順の上位3位が、実際に3位以内に入る可能性のモデルの精度評価。このスコアを超えない限り、オッズ通りに買った方が有利ということになる。"
   ]
  },
  {
   "cell_type": "code",
   "execution_count": 33,
   "metadata": {},
   "outputs": [
    {
     "name": "stdout",
     "output_type": "stream",
     "text": [
      "<class 'pandas.core.frame.DataFrame'>\n",
      "RangeIndex: 157734 entries, 0 to 157733\n",
      "Data columns (total 2 columns):\n",
      "odor    157734 non-null int64\n",
      "rank    157734 non-null int64\n",
      "dtypes: int64(2)\n",
      "memory usage: 2.4 MB\n"
     ]
    }
   ],
   "source": [
    "# Resultモデルをデータフレームに変換\n",
    "import pandas as pd\n",
    "from datetime import date\n",
    "ext_dt = date(2015,1,1)\n",
    "results = Result.objects.filter(race__race_dt__gte=ext_dt, race__result_flg=True).exclude(rank=0).values(\"rank\", \"odor\")\n",
    "df = pd.DataFrame.from_records(results)\n",
    "df.info()"
   ]
  },
  {
   "cell_type": "code",
   "execution_count": 34,
   "metadata": {},
   "outputs": [],
   "source": [
    "import numpy as np\n",
    "\n",
    "# 目的変数の作成（3位以内ならゼロ、それ以外は1）\n",
    "df[\"top3\"] = np.where(df[\"rank\"]<=3, 0, 1)\n",
    "df[\"odor3\"] = np.where(df[\"odor\"]<=3, 0, 1)\n",
    "\n",
    "# 不要データの削除\n",
    "df = df.drop(\"rank\", axis=1)\n",
    "df = df.drop(\"odor\", axis=1)"
   ]
  },
  {
   "cell_type": "code",
   "execution_count": 35,
   "metadata": {},
   "outputs": [
    {
     "data": {
      "image/png": "[encoded data removed]",
      "text/plain": [
       "<Figure size 180x180 with 1 Axes>"
      ]
     },
     "metadata": {},
     "output_type": "display_data"
    }
   ],
   "source": [
    "%matplotlib inline\n",
    "import matplotlib.pyplot as plt\n",
    "from mlxtend.plotting import plot_confusion_matrix\n",
    "from sklearn.metrics import confusion_matrix\n",
    "\n",
    "# Confusion Matrixを使った精度評価\n",
    "cnf_matrix = confusion_matrix(df.top3, df.odor3)\n",
    "fig, ax = plot_confusion_matrix(cnf_matrix)\n",
    "plt.show()"
   ]
  },
  {
   "cell_type": "code",
   "execution_count": 37,
   "metadata": {},
   "outputs": [
    {
     "name": "stdout",
     "output_type": "stream",
     "text": [
      "複勝馬の的中率：0.872\n",
      "購入馬券の的中率：0.872\n"
     ]
    }
   ],
   "source": [
    "from sklearn.metrics import recall_score, precision_score\n",
    "# Uma-Prediction’s evaluation standards for models\n",
    "# 複勝馬の的中率\n",
    "recall = round(recall_score(df.top3, df.odor3), 3)\n",
    "# 購入馬券の的中率\n",
    "precision = round(precision_score(df.top3, df.odor3), 3)\n",
    "print(\"複勝馬の的中率：\"+str(recall))\n",
    "print(\"購入馬券の的中率：\"+str(precision))"
   ]
  },
  {
   "cell_type": "markdown",
   "metadata": {},
   "source": [
    "# サンプル予測モデル構築"
   ]
  },
  {
   "cell_type": "code",
   "execution_count": 51,
   "metadata": {},
   "outputs": [
    {
     "name": "stdout",
     "output_type": "stream",
     "text": [
      "<class 'pandas.core.frame.DataFrame'>\n",
      "Index: 157734 entries, 3回中山2日目 1R-2015102578 to 8回阪神5日目 12R-2006101448\n",
      "Data columns (total 8 columns):\n",
      "age           157734 non-null int64\n",
      "odds          157734 non-null float64\n",
      "condition     157734 non-null object\n",
      "head_count    157734 non-null int64\n",
      "race_prize    157734 non-null float64\n",
      "odds_stdev    157734 non-null float64\n",
      "rank          157734 non-null int64\n",
      "sex           157734 non-null object\n",
      "dtypes: float64(3), int64(3), object(2)\n",
      "memory usage: 10.8+ MB\n"
     ]
    }
   ],
   "source": [
    "# レース結果（2017年1月1日以降で出走結果があり、かつ、出走履歴が３回以上のレース結果）\n",
    "from datetime import date\n",
    "import pandas as pd\n",
    "ext_dt = date(2017,1,1)\n",
    "results = Result.objects.filter(race__race_dt__gte=ext_dt, race__result_flg=True).exclude(rank=0).values(\"key\", \"rank\", \"sex\", \"age\", \"odds\", \"race__max_prize\", \"race__head_count\", \"race__odds_stdev\", \"race__condition\")\n",
    "df = pd.DataFrame.from_records(results)\n",
    "\n",
    "# データフレームの整形\n",
    "df = df.set_index(\"key\")\n",
    "df = df.rename(columns={\"race__max_prize\": \"race_prize\", \"race__head_count\": \"head_count\", \"race__odds_stdev\": \"odds_stdev\", \"race__condition\": \"condition\"})\n",
    "df.info()"
   ]
  },
  {
   "cell_type": "code",
   "execution_count": 52,
   "metadata": {},
   "outputs": [
    {
     "data": {
      "text/html": [
       "<div>\n",
       "<style scoped>\n",
       "    .dataframe tbody tr th:only-of-type {\n",
       "        vertical-align: middle;\n",
       "    }\n",
       "\n",
       "    .dataframe tbody tr th {\n",
       "        vertical-align: top;\n",
       "    }\n",
       "\n",
       "    .dataframe thead th {\n",
       "        text-align: right;\n",
       "    }\n",
       "</style>\n",
       "<table border=\"1\" class=\"dataframe\">\n",
       "  <thead>\n",
       "    <tr style=\"text-align: right;\">\n",
       "      <th></th>\n",
       "      <th>age</th>\n",
       "      <th>odds</th>\n",
       "      <th>head_count</th>\n",
       "      <th>race_prize</th>\n",
       "      <th>odds_stdev</th>\n",
       "      <th>gelding</th>\n",
       "      <th>female</th>\n",
       "      <th>male</th>\n",
       "      <th>soft</th>\n",
       "      <th>good</th>\n",
       "      <th>firm</th>\n",
       "      <th>yielding</th>\n",
       "      <th>top3</th>\n",
       "    </tr>\n",
       "    <tr>\n",
       "      <th>key</th>\n",
       "      <th></th>\n",
       "      <th></th>\n",
       "      <th></th>\n",
       "      <th></th>\n",
       "      <th></th>\n",
       "      <th></th>\n",
       "      <th></th>\n",
       "      <th></th>\n",
       "      <th></th>\n",
       "      <th></th>\n",
       "      <th></th>\n",
       "      <th></th>\n",
       "      <th></th>\n",
       "    </tr>\n",
       "  </thead>\n",
       "  <tbody>\n",
       "    <tr>\n",
       "      <th>3回中山2日目 1R-2015102578</th>\n",
       "      <td>3</td>\n",
       "      <td>8.9</td>\n",
       "      <td>16</td>\n",
       "      <td>500.0</td>\n",
       "      <td>81.29</td>\n",
       "      <td>0</td>\n",
       "      <td>1</td>\n",
       "      <td>0</td>\n",
       "      <td>0</td>\n",
       "      <td>1</td>\n",
       "      <td>0</td>\n",
       "      <td>0</td>\n",
       "      <td>0</td>\n",
       "    </tr>\n",
       "    <tr>\n",
       "      <th>3回中山2日目 1R-2015103403</th>\n",
       "      <td>3</td>\n",
       "      <td>187.6</td>\n",
       "      <td>16</td>\n",
       "      <td>500.0</td>\n",
       "      <td>81.29</td>\n",
       "      <td>0</td>\n",
       "      <td>1</td>\n",
       "      <td>0</td>\n",
       "      <td>0</td>\n",
       "      <td>1</td>\n",
       "      <td>0</td>\n",
       "      <td>0</td>\n",
       "      <td>0</td>\n",
       "    </tr>\n",
       "    <tr>\n",
       "      <th>3回中山2日目 1R-2015100599</th>\n",
       "      <td>3</td>\n",
       "      <td>5.3</td>\n",
       "      <td>16</td>\n",
       "      <td>500.0</td>\n",
       "      <td>81.29</td>\n",
       "      <td>0</td>\n",
       "      <td>1</td>\n",
       "      <td>0</td>\n",
       "      <td>0</td>\n",
       "      <td>1</td>\n",
       "      <td>0</td>\n",
       "      <td>0</td>\n",
       "      <td>0</td>\n",
       "    </tr>\n",
       "    <tr>\n",
       "      <th>3回中山2日目 1R-2015105711</th>\n",
       "      <td>3</td>\n",
       "      <td>4.8</td>\n",
       "      <td>16</td>\n",
       "      <td>500.0</td>\n",
       "      <td>81.29</td>\n",
       "      <td>0</td>\n",
       "      <td>1</td>\n",
       "      <td>0</td>\n",
       "      <td>0</td>\n",
       "      <td>1</td>\n",
       "      <td>0</td>\n",
       "      <td>0</td>\n",
       "      <td>1</td>\n",
       "    </tr>\n",
       "    <tr>\n",
       "      <th>3回中山2日目 1R-2015106131</th>\n",
       "      <td>3</td>\n",
       "      <td>3.5</td>\n",
       "      <td>16</td>\n",
       "      <td>500.0</td>\n",
       "      <td>81.29</td>\n",
       "      <td>0</td>\n",
       "      <td>1</td>\n",
       "      <td>0</td>\n",
       "      <td>0</td>\n",
       "      <td>1</td>\n",
       "      <td>0</td>\n",
       "      <td>0</td>\n",
       "      <td>1</td>\n",
       "    </tr>\n",
       "    <tr>\n",
       "      <th>3回中山2日目 1R-2015102949</th>\n",
       "      <td>3</td>\n",
       "      <td>31.3</td>\n",
       "      <td>16</td>\n",
       "      <td>500.0</td>\n",
       "      <td>81.29</td>\n",
       "      <td>0</td>\n",
       "      <td>1</td>\n",
       "      <td>0</td>\n",
       "      <td>0</td>\n",
       "      <td>1</td>\n",
       "      <td>0</td>\n",
       "      <td>0</td>\n",
       "      <td>1</td>\n",
       "    </tr>\n",
       "    <tr>\n",
       "      <th>3回中山2日目 1R-2015100351</th>\n",
       "      <td>3</td>\n",
       "      <td>8.4</td>\n",
       "      <td>16</td>\n",
       "      <td>500.0</td>\n",
       "      <td>81.29</td>\n",
       "      <td>0</td>\n",
       "      <td>1</td>\n",
       "      <td>0</td>\n",
       "      <td>0</td>\n",
       "      <td>1</td>\n",
       "      <td>0</td>\n",
       "      <td>0</td>\n",
       "      <td>1</td>\n",
       "    </tr>\n",
       "    <tr>\n",
       "      <th>3回中山2日目 1R-2015103294</th>\n",
       "      <td>3</td>\n",
       "      <td>85.0</td>\n",
       "      <td>16</td>\n",
       "      <td>500.0</td>\n",
       "      <td>81.29</td>\n",
       "      <td>0</td>\n",
       "      <td>1</td>\n",
       "      <td>0</td>\n",
       "      <td>0</td>\n",
       "      <td>1</td>\n",
       "      <td>0</td>\n",
       "      <td>0</td>\n",
       "      <td>1</td>\n",
       "    </tr>\n",
       "    <tr>\n",
       "      <th>3回中山2日目 1R-2015102412</th>\n",
       "      <td>3</td>\n",
       "      <td>130.6</td>\n",
       "      <td>16</td>\n",
       "      <td>500.0</td>\n",
       "      <td>81.29</td>\n",
       "      <td>0</td>\n",
       "      <td>1</td>\n",
       "      <td>0</td>\n",
       "      <td>0</td>\n",
       "      <td>1</td>\n",
       "      <td>0</td>\n",
       "      <td>0</td>\n",
       "      <td>1</td>\n",
       "    </tr>\n",
       "    <tr>\n",
       "      <th>3回中山2日目 1R-2015102829</th>\n",
       "      <td>3</td>\n",
       "      <td>22.7</td>\n",
       "      <td>16</td>\n",
       "      <td>500.0</td>\n",
       "      <td>81.29</td>\n",
       "      <td>0</td>\n",
       "      <td>1</td>\n",
       "      <td>0</td>\n",
       "      <td>0</td>\n",
       "      <td>1</td>\n",
       "      <td>0</td>\n",
       "      <td>0</td>\n",
       "      <td>1</td>\n",
       "    </tr>\n",
       "  </tbody>\n",
       "</table>\n",
       "</div>"
      ],
      "text/plain": [
       "                       age   odds  head_count  race_prize  odds_stdev  \\\n",
       "key                                                                     \n",
       "3回中山2日目 1R-2015102578    3    8.9          16       500.0       81.29   \n",
       "3回中山2日目 1R-2015103403    3  187.6          16       500.0       81.29   \n",
       "3回中山2日目 1R-2015100599    3    5.3          16       500.0       81.29   \n",
       "3回中山2日目 1R-2015105711    3    4.8          16       500.0       81.29   \n",
       "3回中山2日目 1R-2015106131    3    3.5          16       500.0       81.29   \n",
       "3回中山2日目 1R-2015102949    3   31.3          16       500.0       81.29   \n",
       "3回中山2日目 1R-2015100351    3    8.4          16       500.0       81.29   \n",
       "3回中山2日目 1R-2015103294    3   85.0          16       500.0       81.29   \n",
       "3回中山2日目 1R-2015102412    3  130.6          16       500.0       81.29   \n",
       "3回中山2日目 1R-2015102829    3   22.7          16       500.0       81.29   \n",
       "\n",
       "                       gelding  female  male  soft  good  firm  yielding  top3  \n",
       "key                                                                             \n",
       "3回中山2日目 1R-2015102578        0       1     0     0     1     0         0     0  \n",
       "3回中山2日目 1R-2015103403        0       1     0     0     1     0         0     0  \n",
       "3回中山2日目 1R-2015100599        0       1     0     0     1     0         0     0  \n",
       "3回中山2日目 1R-2015105711        0       1     0     0     1     0         0     1  \n",
       "3回中山2日目 1R-2015106131        0       1     0     0     1     0         0     1  \n",
       "3回中山2日目 1R-2015102949        0       1     0     0     1     0         0     1  \n",
       "3回中山2日目 1R-2015100351        0       1     0     0     1     0         0     1  \n",
       "3回中山2日目 1R-2015103294        0       1     0     0     1     0         0     1  \n",
       "3回中山2日目 1R-2015102412        0       1     0     0     1     0         0     1  \n",
       "3回中山2日目 1R-2015102829        0       1     0     0     1     0         0     1  "
      ]
     },
     "execution_count": 52,
     "metadata": {},
     "output_type": "execute_result"
    }
   ],
   "source": [
    "\n",
    "import numpy as np\n",
    "\n",
    "# 性別データのダミー変数化\n",
    "dmy_sex = pd.get_dummies(df.sex)\n",
    "df = pd.concat([df, dmy_sex], axis=1)\n",
    "df = df.drop(\"sex\", axis=1)\n",
    "df = df.rename(columns={\"セ\": \"gelding\", \"牝\": \"female\", \"牡\": \"male\"})\n",
    "\n",
    "# 馬場データのダミー変数化\n",
    "dmy_condition = pd.get_dummies(df.condition)\n",
    "df = pd.concat([df, dmy_condition], axis=1)\n",
    "df = df.drop(\"condition\", axis=1)\n",
    "df = df.rename(columns={\"不良\": \"soft\", \"稍重\": \"good\", \"良\": \"firm\", \"重\": \"yielding\"})\n",
    "\n",
    "# 目的変数の作成（3位以内ならゼロ、それ以外は1）\n",
    "df[\"top3\"] = np.where(df[\"rank\"]<=3, 0, 1)\n",
    "\n",
    "# 不要データの削除\n",
    "df = df.drop(\"rank\", axis=1)\n",
    "\n",
    "# データ確認\n",
    "df.head(10)"
   ]
  },
  {
   "cell_type": "code",
   "execution_count": 53,
   "metadata": {},
   "outputs": [],
   "source": [
    "from sklearn.model_selection import train_test_split\n",
    "\n",
    "# 学習データとテストデータの分離\n",
    "X = df.drop(\"top3\", axis=1)\n",
    "y = df.top3\n",
    "X_train, X_test, y_train, y_test = train_test_split(X, y, random_state=0)"
   ]
  },
  {
   "cell_type": "code",
   "execution_count": 54,
   "metadata": {},
   "outputs": [
    {
     "data": {
      "text/plain": [
       "SVC(C=1.0, cache_size=200, class_weight='balanced', coef0=0.0,\n",
       "  decision_function_shape='ovr', degree=3, gamma='auto', kernel='rbf',\n",
       "  max_iter=-1, probability=False, random_state=None, shrinking=True,\n",
       "  tol=0.001, verbose=False)"
      ]
     },
     "execution_count": 54,
     "metadata": {},
     "output_type": "execute_result"
    }
   ],
   "source": [
    "# 学習（時間がかかります）\n",
    "from sklearn.svm import SVC\n",
    "svm = SVC(class_weight=\"balanced\")\n",
    "svm.fit(X_train, y_train)"
   ]
  },
  {
   "cell_type": "code",
   "execution_count": 55,
   "metadata": {},
   "outputs": [
    {
     "data": {
      "image/png": "[encoded data removed]",
      "text/plain": [
       "<Figure size 180x180 with 1 Axes>"
      ]
     },
     "metadata": {},
     "output_type": "display_data"
    }
   ],
   "source": [
    "%matplotlib inline\n",
    "import matplotlib.pyplot as plt\n",
    "from mlxtend.plotting import plot_confusion_matrix\n",
    "from sklearn.metrics import confusion_matrix\n",
    "\n",
    "# Confusion Matrixを使った精度評価\n",
    "y_pred = svm.predict(X_test)\n",
    "cnf_matrix = confusion_matrix(y_test, y_pred)\n",
    "fig, ax = plot_confusion_matrix(cnf_matrix)\n",
    "plt.show()"
   ]
  },
  {
   "cell_type": "code",
   "execution_count": 58,
   "metadata": {},
   "outputs": [
    {
     "name": "stdout",
     "output_type": "stream",
     "text": [
      "複勝馬の的中率：0.74\n",
      "購入馬券の的中率：0.89\n"
     ]
    }
   ],
   "source": [
    "from sklearn.metrics import recall_score, precision_score\n",
    "# Uma-Prediction’s evaluation standards for models\n",
    "# 複勝馬の的中率\n",
    "recall = round(recall_score(y_test, y_pred), 2)\n",
    "# 購入馬券の的中率\n",
    "precision = round(precision_score(y_test, y_pred), 2)\n",
    "print(\"複勝馬の的中率：\"+str(recall))\n",
    "print(\"購入馬券の的中率：\"+str(precision))"
   ]
  }
 ],
 "metadata": {
  "kernelspec": {
   "display_name": "Django Shell-Plus",
   "language": "python",
   "name": "django_extensions"
  },
  "language_info": {
   "codemirror_mode": {
    "name": "ipython",
    "version": 3
   },
   "file_extension": ".py",
   "mimetype": "text/x-python",
   "name": "python",
   "nbconvert_exporter": "python",
   "pygments_lexer": "ipython3",
   "version": "3.6.4"
  }
 },
 "nbformat": 4,
 "nbformat_minor": 2
}
