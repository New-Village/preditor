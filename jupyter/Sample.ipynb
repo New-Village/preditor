{
 "cells": [
  {
   "cell_type": "markdown",
   "metadata": {},
   "source": [
    "# オッズの予測精度評価\n",
    "人気順の上位3位が、実際に3位以内に入る可能性のモデルの精度評価。このスコアを超えない限り、オッズ通りに買った方が有利ということになる。"
   ]
  },
  {
   "cell_type": "code",
   "execution_count": 1,
   "metadata": {},
   "outputs": [],
   "source": [
    "# Resultモデルをデータフレームに変換\n",
    "# Getting Data\n",
    "from umap.uhelper import pd_result\n",
    "cols = [\"rank\", \"odor\"]\n",
    "df = pd_result(cols, True)"
   ]
  },
  {
   "cell_type": "code",
   "execution_count": 2,
   "metadata": {},
   "outputs": [],
   "source": [
    "import numpy as np\n",
    "\n",
    "# 目的変数の作成（3位以内ならFalse（ゼロ）、それ以外はTrue（1））\n",
    "df[\"top3\"] = np.where(df[\"rank\"]<=3, False, True)\n",
    "df[\"odor3\"] = np.where(df[\"odor\"]<=3, False, True)\n",
    "\n",
    "# 不要データの削除\n",
    "df = df.drop([\"rank\", \"odor\"], axis=1)"
   ]
  },
  {
   "cell_type": "code",
   "execution_count": 3,
   "metadata": {},
   "outputs": [
    {
     "name": "stdout",
     "output_type": "stream",
     "text": [
      "             precision    recall  f1-score   support\n",
      "\n",
      "      False       0.52      0.51      0.51     45218\n",
      "       True       0.87      0.87      0.87    166997\n",
      "\n",
      "avg / total       0.79      0.79      0.79    212215\n",
      "\n",
      "複勝馬の的中率（Recall）: 0.508\n",
      "購入馬券の的中率（Precision）: 0.518\n"
     ]
    },
    {
     "data": {
      "image/png": "[encoded data removed]",
      "text/plain": [
       "<Figure size 180x180 with 1 Axes>"
      ]
     },
     "metadata": {},
     "output_type": "display_data"
    }
   ],
   "source": [
    "%matplotlib inline\n",
    "import matplotlib.pyplot as plt\n",
    "from mlxtend.plotting import plot_confusion_matrix\n",
    "from sklearn.metrics import confusion_matrix, classification_report\n",
    "\n",
    "print(classification_report(df.top3, df.odor3))\n",
    "tp, fn, fp, tn = confusion_matrix(df.top3, df.odor3).ravel()\n",
    "print('複勝馬の的中率（Recall）: {:.3f}'.format(tp / (tp + fn)))\n",
    "print('購入馬券の的中率（Precision）: {:.3f}'.format(tp / (tp + fp)))\n",
    "\n",
    "# Confusion Matrixを使った精度評価\n",
    "cnf_matrix = confusion_matrix(df.top3, df.odor3)\n",
    "fig, ax = plot_confusion_matrix(cnf_matrix)\n",
    "plt.show()"
   ]
  },
  {
   "cell_type": "markdown",
   "metadata": {},
   "source": [
    "# Sample Prediction Model Creation"
   ]
  },
  {
   "cell_type": "code",
   "execution_count": 4,
   "metadata": {},
   "outputs": [],
   "source": [
    "# レース結果（出走結果のあるデータを抽出）\n",
    "from umap.uhelper import pd_result\n",
    "cols = [\"rank\", \"sex\", \"age\", \"t3r_jockey\", \"cnt_run\", \"t3r_horse\", \"avg_ror\", \"avg_prize\", \"avg_last3f\", \"race__head_count\", \"race__max_prize\", \"race__odds_stdev\"]\n",
    "df = pd_result(cols, True)\n",
    "#df.info()"
   ]
  },
  {
   "cell_type": "code",
   "execution_count": 5,
   "metadata": {},
   "outputs": [
    {
     "data": {
      "text/html": [
       "<div>\n",
       "<style scoped>\n",
       "    .dataframe tbody tr th:only-of-type {\n",
       "        vertical-align: middle;\n",
       "    }\n",
       "\n",
       "    .dataframe tbody tr th {\n",
       "        vertical-align: top;\n",
       "    }\n",
       "\n",
       "    .dataframe thead th {\n",
       "        text-align: right;\n",
       "    }\n",
       "</style>\n",
       "<table border=\"1\" class=\"dataframe\">\n",
       "  <thead>\n",
       "    <tr style=\"text-align: right;\">\n",
       "      <th></th>\n",
       "      <th>age</th>\n",
       "      <th>avg_last3f</th>\n",
       "      <th>avg_prize</th>\n",
       "      <th>avg_ror</th>\n",
       "      <th>cnt_run</th>\n",
       "      <th>head_count</th>\n",
       "      <th>race_prize</th>\n",
       "      <th>odds_stdev</th>\n",
       "      <th>t3r_horse</th>\n",
       "      <th>t3r_jockey</th>\n",
       "      <th>grade_rate</th>\n",
       "      <th>gelding</th>\n",
       "      <th>female</th>\n",
       "      <th>male</th>\n",
       "      <th>top3</th>\n",
       "    </tr>\n",
       "  </thead>\n",
       "  <tbody>\n",
       "    <tr>\n",
       "      <th>0</th>\n",
       "      <td>3</td>\n",
       "      <td>41.700</td>\n",
       "      <td>0.000</td>\n",
       "      <td>0.000</td>\n",
       "      <td>3</td>\n",
       "      <td>16</td>\n",
       "      <td>500.0</td>\n",
       "      <td>55.097</td>\n",
       "      <td>0.000</td>\n",
       "      <td>0.06</td>\n",
       "      <td>0.00</td>\n",
       "      <td>0</td>\n",
       "      <td>1</td>\n",
       "      <td>0</td>\n",
       "      <td>1</td>\n",
       "    </tr>\n",
       "    <tr>\n",
       "      <th>1</th>\n",
       "      <td>3</td>\n",
       "      <td>38.575</td>\n",
       "      <td>60.000</td>\n",
       "      <td>5.100</td>\n",
       "      <td>4</td>\n",
       "      <td>16</td>\n",
       "      <td>500.0</td>\n",
       "      <td>55.097</td>\n",
       "      <td>0.250</td>\n",
       "      <td>0.34</td>\n",
       "      <td>0.12</td>\n",
       "      <td>0</td>\n",
       "      <td>1</td>\n",
       "      <td>0</td>\n",
       "      <td>1</td>\n",
       "    </tr>\n",
       "    <tr>\n",
       "      <th>2</th>\n",
       "      <td>3</td>\n",
       "      <td>37.967</td>\n",
       "      <td>96.667</td>\n",
       "      <td>6.967</td>\n",
       "      <td>3</td>\n",
       "      <td>16</td>\n",
       "      <td>500.0</td>\n",
       "      <td>55.097</td>\n",
       "      <td>0.333</td>\n",
       "      <td>0.32</td>\n",
       "      <td>0.19</td>\n",
       "      <td>0</td>\n",
       "      <td>1</td>\n",
       "      <td>0</td>\n",
       "      <td>1</td>\n",
       "    </tr>\n",
       "    <tr>\n",
       "      <th>3</th>\n",
       "      <td>3</td>\n",
       "      <td>38.120</td>\n",
       "      <td>15.000</td>\n",
       "      <td>0.000</td>\n",
       "      <td>7</td>\n",
       "      <td>16</td>\n",
       "      <td>500.0</td>\n",
       "      <td>55.097</td>\n",
       "      <td>0.000</td>\n",
       "      <td>0.18</td>\n",
       "      <td>0.03</td>\n",
       "      <td>0</td>\n",
       "      <td>1</td>\n",
       "      <td>0</td>\n",
       "      <td>1</td>\n",
       "    </tr>\n",
       "    <tr>\n",
       "      <th>4</th>\n",
       "      <td>3</td>\n",
       "      <td>38.200</td>\n",
       "      <td>0.000</td>\n",
       "      <td>0.000</td>\n",
       "      <td>4</td>\n",
       "      <td>16</td>\n",
       "      <td>500.0</td>\n",
       "      <td>55.097</td>\n",
       "      <td>0.000</td>\n",
       "      <td>0.14</td>\n",
       "      <td>0.00</td>\n",
       "      <td>0</td>\n",
       "      <td>1</td>\n",
       "      <td>0</td>\n",
       "      <td>1</td>\n",
       "    </tr>\n",
       "  </tbody>\n",
       "</table>\n",
       "</div>"
      ],
      "text/plain": [
       "   age  avg_last3f  avg_prize  avg_ror  cnt_run  head_count  race_prize  \\\n",
       "0    3      41.700      0.000    0.000        3          16       500.0   \n",
       "1    3      38.575     60.000    5.100        4          16       500.0   \n",
       "2    3      37.967     96.667    6.967        3          16       500.0   \n",
       "3    3      38.120     15.000    0.000        7          16       500.0   \n",
       "4    3      38.200      0.000    0.000        4          16       500.0   \n",
       "\n",
       "   odds_stdev  t3r_horse  t3r_jockey  grade_rate  gelding  female  male  top3  \n",
       "0      55.097      0.000        0.06        0.00        0       1     0     1  \n",
       "1      55.097      0.250        0.34        0.12        0       1     0     1  \n",
       "2      55.097      0.333        0.32        0.19        0       1     0     1  \n",
       "3      55.097      0.000        0.18        0.03        0       1     0     1  \n",
       "4      55.097      0.000        0.14        0.00        0       1     0     1  "
      ]
     },
     "execution_count": 5,
     "metadata": {},
     "output_type": "execute_result"
    }
   ],
   "source": [
    "import numpy as np\n",
    "import pandas as pd\n",
    "# 計算列の追加\n",
    "df[\"grade_rate\"] = round(df.avg_prize / df.race_prize, 2)\n",
    "\n",
    "# 性別データのダミー変数化\n",
    "dmy_sex = pd.get_dummies(df.sex)\n",
    "df = pd.concat([df, dmy_sex], axis=1)\n",
    "df = df.drop(\"sex\", axis=1)\n",
    "df = df.rename(columns={\"セ\": \"gelding\", \"牝\": \"female\", \"牡\": \"male\"})\n",
    "\n",
    "# 目的変数の作成（3位以内ならゼロ、それ以外は1）\n",
    "df[\"top3\"] = np.where(df[\"rank\"]<=3, 0, 1)\n",
    "\n",
    "# 不要データの削除\n",
    "df = df.drop(\"rank\", axis=1)\n",
    "df.head()"
   ]
  },
  {
   "cell_type": "code",
   "execution_count": 6,
   "metadata": {},
   "outputs": [],
   "source": [
    "from sklearn.preprocessing import StandardScaler\n",
    "from sklearn.model_selection import train_test_split\n",
    "# データの標準化\n",
    "sc = StandardScaler()\n",
    "df_std = sc.fit_transform(df.drop(\"top3\", axis=1))\n",
    "# データの分割\n",
    "X = pd.DataFrame(df_std)\n",
    "y = df.top3\n",
    "X_train, X_test, y_train, y_test = train_test_split(X, y, random_state=0)"
   ]
  },
  {
   "cell_type": "code",
   "execution_count": 34,
   "metadata": {},
   "outputs": [
    {
     "data": {
      "text/plain": [
       "SVC(C=1.0, cache_size=200, class_weight='balanced', coef0=0.0,\n",
       "  decision_function_shape='ovr', degree=3, gamma='auto', kernel='rbf',\n",
       "  max_iter=-1, probability=False, random_state=None, shrinking=True,\n",
       "  tol=0.001, verbose=False)"
      ]
     },
     "execution_count": 34,
     "metadata": {},
     "output_type": "execute_result"
    }
   ],
   "source": [
    "# 学習（時間がかかります）\n",
    "from sklearn.svm import SVC\n",
    "from sklearn import linear_model, ensemble\n",
    "clf = SVC(kernel=\"rbf\", class_weight=\"balanced\")\n",
    "clf.fit(X_train, y_train)"
   ]
  },
  {
   "cell_type": "code",
   "execution_count": 35,
   "metadata": {},
   "outputs": [
    {
     "name": "stdout",
     "output_type": "stream",
     "text": [
      "             precision    recall  f1-score   support\n",
      "\n",
      "          0       0.33      0.67      0.45     11256\n",
      "          1       0.88      0.64      0.74     41798\n",
      "\n",
      "avg / total       0.76      0.65      0.68     53054\n",
      "\n",
      "複勝馬の的中率（Recall）: 0.672\n",
      "購入馬券の的中率（Precision）: 0.333\n"
     ]
    },
    {
     "data": {
      "image/png": "[encoded data removed]",
      "text/plain": [
       "<Figure size 180x180 with 1 Axes>"
      ]
     },
     "metadata": {},
     "output_type": "display_data"
    }
   ],
   "source": [
    "%matplotlib inline\n",
    "import matplotlib.pyplot as plt\n",
    "from mlxtend.plotting import plot_confusion_matrix\n",
    "from sklearn.metrics import confusion_matrix, classification_report\n",
    "\n",
    "y_pred = clf.predict(X_test)\n",
    "tp, fn, fp, tn = confusion_matrix(y_test, y_pred).ravel()\n",
    "\n",
    "print(classification_report(y_test, y_pred))\n",
    "recall = round(tp / (tp + fn), 3)\n",
    "precision = round(tp / (tp + fp), 3)\n",
    "print(\"複勝馬の的中率（Recall）: \" + str(recall))\n",
    "print(\"購入馬券の的中率（Precision）: \" + str(precision))\n",
    "\n",
    "# Confusion Matrixを使った精度評価\n",
    "cnf_matrix = confusion_matrix(y_test, y_pred)\n",
    "fig, ax = plot_confusion_matrix(cnf_matrix)\n",
    "plt.show()"
   ]
  },
  {
   "cell_type": "code",
   "execution_count": 36,
   "metadata": {},
   "outputs": [
    {
     "data": {
      "text/plain": [
       "<QuerySet [{'title': 'svc_v1', 'method': 'classification', 'recall': 0.672, 'precision': 0.333, 'note': \"class_weight='balanced'\"}]>"
      ]
     },
     "execution_count": 36,
     "metadata": {},
     "output_type": "execute_result"
    }
   ],
   "source": [
    "# モデルの保存\n",
    "import pickle\n",
    "\n",
    "model_name = \"svc_v1\"\n",
    "\n",
    "p = Pmodel()\n",
    "p.title = model_name\n",
    "p.model_bin = clf\n",
    "p.method = \"classification\"\n",
    "p.columns = cols\n",
    "p.recall = recall\n",
    "p.precision = precision\n",
    "p.note = \"class_weight='balanced'\"\n",
    "p.save()\n",
    "\n",
    "Pmodel.objects.filter(title=model_name).values(\"title\", \"method\", \"recall\", \"precision\", \"note\")"
   ]
  },
  {
   "cell_type": "markdown",
   "metadata": {},
   "source": [
    "## Model Execution"
   ]
  },
  {
   "cell_type": "code",
   "execution_count": 60,
   "metadata": {},
   "outputs": [],
   "source": [
    "# レース結果（出走結果のあるデータを抽出）\n",
    "from umap.uhelper import pd_result\n",
    "cols = [\"key\", \"sex\", \"age\", \"t3r_jockey\", \"cnt_run\", \"t3r_horse\", \"avg_ror\", \"avg_prize\", \"avg_last3f\", \"race__head_count\", \"race__max_prize\", \"race__odds_stdev\"]\n",
    "df = pd_result(cols, False)\n",
    "#df.info()"
   ]
  },
  {
   "cell_type": "code",
   "execution_count": 61,
   "metadata": {},
   "outputs": [],
   "source": [
    "import numpy as np\n",
    "import pandas as pd\n",
    "# 計算列の追加\n",
    "df[\"grade_rate\"] = round(df.avg_prize / df.race_prize, 2)\n",
    "\n",
    "# 性別データのダミー変数化\n",
    "dmy_sex = pd.get_dummies(df.sex)\n",
    "df = pd.concat([df, dmy_sex], axis=1)\n",
    "df = df.drop(\"sex\", axis=1)\n",
    "df = df.rename(columns={\"セ\": \"gelding\", \"牝\": \"female\", \"牡\": \"male\"})\n",
    "#df.head()"
   ]
  },
  {
   "cell_type": "code",
   "execution_count": 62,
   "metadata": {},
   "outputs": [],
   "source": [
    "from sklearn.preprocessing import StandardScaler\n",
    "from sklearn.model_selection import train_test_split\n",
    "# データの標準化\n",
    "sc = StandardScaler()\n",
    "df_std = sc.fit_transform(df.drop(\"key\", axis=1))\n",
    "# データの分割\n",
    "X = pd.DataFrame(df_std)\n",
    "y_key = df.key"
   ]
  },
  {
   "cell_type": "code",
   "execution_count": 63,
   "metadata": {},
   "outputs": [],
   "source": [
    "# モデルのロード\n",
    "p = Pmodel.objects.get(pk=\"svc_v1\")\n",
    "clf = p.model_bin\n",
    "\n",
    "# モデルの適用\n",
    "y = clf.predict(X)\n",
    "y_pred = pd.Series(y)"
   ]
  },
  {
   "cell_type": "code",
   "execution_count": 64,
   "metadata": {},
   "outputs": [],
   "source": [
    "# データセットとの結合\n",
    "rds = pd.concat([y_pred, y_key], axis=1)\n",
    "rds = rds.rename(columns={0:\"expect\"})\n",
    "rds = rds.set_index(\"key\")\n",
    "\n",
    "# True/Falseを逆転（Pythonとsciki-learnの0,1が逆のため）\n",
    "rds[\"expect\"] = np.where(rds[\"expect\"]==0, True, False)"
   ]
  },
  {
   "cell_type": "code",
   "execution_count": 65,
   "metadata": {},
   "outputs": [],
   "source": [
    "for index, row in rds.iterrows():\n",
    "    result = Result.objects.get(pk=index)\n",
    "    exp = Expect()\n",
    "    exp.result = result\n",
    "    exp.svc_v1 = row.expect\n",
    "    exp.save()"
   ]
  },
  {
   "cell_type": "markdown",
   "metadata": {},
   "source": [
    "# Other\n",
    "ハイパーパラメーターの確認"
   ]
  },
  {
   "cell_type": "code",
   "execution_count": null,
   "metadata": {},
   "outputs": [
    {
     "name": "stdout",
     "output_type": "stream",
     "text": [
      "\n",
      "==================================================\n",
      "precision\n",
      "==================================================\n"
     ]
    }
   ],
   "source": [
    "from sklearn.svm import SVC\n",
    "from sklearn.grid_search import GridSearchCV\n",
    "\n",
    "scores = ['precision', 'recall']\n",
    "Cs = [0.001, 0.01, 0.1, 1, 10]\n",
    "gammas = [0.001, 0.01, 0.1, 1]\n",
    "\n",
    "for score in scores:\n",
    "    print('\\n' + '='*50)\n",
    "    print(score)\n",
    "    print('='*50)\n",
    "    \n",
    "    param_grid = {'C': Cs, 'gamma' : gammas}\n",
    "    grid_search = GridSearchCV(SVC(kernel='rbf', class_weight=\"balanced\"), param_grid, cv=5, n_jobs=-1)\n",
    "    grid_search.fit(X, y)\n",
    "    \n",
    "    print(\"\\n+ ベストパラメータ:\\n\")\n",
    "    print(grid_search.best_estimator_)\n",
    "\n",
    "    print(\"\\n+ トレーニングデータでCVした時の平均スコア:\\n\")\n",
    "    for params, mean_score, all_scores in grid_search.grid_scores_:\n",
    "        print(\"{:.3f} (+/- {:.3f}) for {}\".format(mean_score, all_scores.std() / 2, params))\n"
   ]
  }
 ],
 "metadata": {
  "kernelspec": {
   "display_name": "Django Shell-Plus",
   "language": "python",
   "name": "django_extensions"
  },
  "language_info": {
   "codemirror_mode": {
    "name": "ipython",
    "version": 3
   },
   "file_extension": ".py",
   "mimetype": "text/x-python",
   "name": "python",
   "nbconvert_exporter": "python",
   "pygments_lexer": "ipython3",
   "version": "3.6.4"
  }
 },
 "nbformat": 4,
 "nbformat_minor": 2
}
