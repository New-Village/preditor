{
 "cells": [
  {
   "cell_type": "markdown",
   "metadata": {},
   "source": [
    "# オッズの予測精度評価\n",
    "人気順の上位3位が、実際に3位以内に入る可能性のモデルの精度評価。このスコアを超えない限り、オッズ通りに買った方が有利ということになる。"
   ]
  },
  {
   "cell_type": "code",
   "execution_count": 1,
   "metadata": {},
   "outputs": [],
   "source": [
    "# Resultモデルをデータフレームに変換\n",
    "# Getting Data\n",
    "from umap.uhelper import pd_result\n",
    "cols = [\"rank\", \"odor\"]\n",
    "df = pd_result(cols, True)"
   ]
  },
  {
   "cell_type": "code",
   "execution_count": 2,
   "metadata": {},
   "outputs": [],
   "source": [
    "import numpy as np\n",
    "\n",
    "# 目的変数の作成（3位以内ならFalse（ゼロ）、それ以外はTrue（1））\n",
    "df[\"top3\"] = np.where(df[\"rank\"]<=3, False, True)\n",
    "df[\"odor3\"] = np.where(df[\"odor\"]<=3, False, True)\n",
    "\n",
    "# 不要データの削除\n",
    "df = df.drop([\"rank\", \"odor\"], axis=1)"
   ]
  },
  {
   "cell_type": "code",
   "execution_count": 3,
   "metadata": {},
   "outputs": [
    {
     "name": "stdout",
     "output_type": "stream",
     "text": [
      "             precision    recall  f1-score   support\n",
      "\n",
      "      False       0.53      0.52      0.52     29590\n",
      "       True       0.87      0.87      0.87    108014\n",
      "\n",
      "avg / total       0.80      0.80      0.80    137604\n",
      "\n",
      "複勝馬の的中率（Recall）: 0.517\n",
      "購入馬券の的中率（Precision）: 0.528\n"
     ]
    },
    {
     "data": {
      "image/png": "[encoded data removed]",
      "text/plain": [
       "<Figure size 180x180 with 1 Axes>"
      ]
     },
     "metadata": {},
     "output_type": "display_data"
    }
   ],
   "source": [
    "%matplotlib inline\n",
    "import matplotlib.pyplot as plt\n",
    "from mlxtend.plotting import plot_confusion_matrix\n",
    "from sklearn.metrics import confusion_matrix, classification_report\n",
    "\n",
    "print(classification_report(df.top3, df.odor3))\n",
    "tp, fn, fp, tn = confusion_matrix(df.top3, df.odor3).ravel()\n",
    "print('複勝馬の的中率（Recall）: {:.3f}'.format(tp / (tp + fn)))\n",
    "print('購入馬券の的中率（Precision）: {:.3f}'.format(tp / (tp + fp)))\n",
    "\n",
    "# Confusion Matrixを使った精度評価\n",
    "cnf_matrix = confusion_matrix(df.top3, df.odor3)\n",
    "fig, ax = plot_confusion_matrix(cnf_matrix)\n",
    "plt.show()"
   ]
  },
  {
   "cell_type": "markdown",
   "metadata": {},
   "source": [
    "# Sample Prediction Model Creation"
   ]
  },
  {
   "cell_type": "code",
   "execution_count": 4,
   "metadata": {},
   "outputs": [],
   "source": [
    "# レース結果（出走結果のあるデータを抽出）\n",
    "from umap.uhelper import pd_result\n",
    "cols = [\"rank\", \"sex\", \"age\", \"odds\"]\n",
    "df = pd_result(cols, True)\n",
    "#df.info()"
   ]
  },
  {
   "cell_type": "code",
   "execution_count": 5,
   "metadata": {},
   "outputs": [
    {
     "data": {
      "text/html": [
       "<div>\n",
       "<style scoped>\n",
       "    .dataframe tbody tr th:only-of-type {\n",
       "        vertical-align: middle;\n",
       "    }\n",
       "\n",
       "    .dataframe tbody tr th {\n",
       "        vertical-align: top;\n",
       "    }\n",
       "\n",
       "    .dataframe thead th {\n",
       "        text-align: right;\n",
       "    }\n",
       "</style>\n",
       "<table border=\"1\" class=\"dataframe\">\n",
       "  <thead>\n",
       "    <tr style=\"text-align: right;\">\n",
       "      <th></th>\n",
       "      <th>age</th>\n",
       "      <th>odds</th>\n",
       "      <th>gelding</th>\n",
       "      <th>female</th>\n",
       "      <th>male</th>\n",
       "      <th>top3</th>\n",
       "    </tr>\n",
       "  </thead>\n",
       "  <tbody>\n",
       "    <tr>\n",
       "      <th>0</th>\n",
       "      <td>3</td>\n",
       "      <td>12.0</td>\n",
       "      <td>0</td>\n",
       "      <td>1</td>\n",
       "      <td>0</td>\n",
       "      <td>0</td>\n",
       "    </tr>\n",
       "    <tr>\n",
       "      <th>1</th>\n",
       "      <td>3</td>\n",
       "      <td>5.1</td>\n",
       "      <td>0</td>\n",
       "      <td>0</td>\n",
       "      <td>1</td>\n",
       "      <td>0</td>\n",
       "    </tr>\n",
       "    <tr>\n",
       "      <th>2</th>\n",
       "      <td>3</td>\n",
       "      <td>1.5</td>\n",
       "      <td>0</td>\n",
       "      <td>0</td>\n",
       "      <td>1</td>\n",
       "      <td>0</td>\n",
       "    </tr>\n",
       "    <tr>\n",
       "      <th>3</th>\n",
       "      <td>3</td>\n",
       "      <td>9.8</td>\n",
       "      <td>0</td>\n",
       "      <td>0</td>\n",
       "      <td>1</td>\n",
       "      <td>1</td>\n",
       "    </tr>\n",
       "    <tr>\n",
       "      <th>4</th>\n",
       "      <td>3</td>\n",
       "      <td>18.0</td>\n",
       "      <td>0</td>\n",
       "      <td>0</td>\n",
       "      <td>1</td>\n",
       "      <td>1</td>\n",
       "    </tr>\n",
       "  </tbody>\n",
       "</table>\n",
       "</div>"
      ],
      "text/plain": [
       "   age  odds  gelding  female  male  top3\n",
       "0    3  12.0        0       1     0     0\n",
       "1    3   5.1        0       0     1     0\n",
       "2    3   1.5        0       0     1     0\n",
       "3    3   9.8        0       0     1     1\n",
       "4    3  18.0        0       0     1     1"
      ]
     },
     "execution_count": 5,
     "metadata": {},
     "output_type": "execute_result"
    }
   ],
   "source": [
    "import numpy as np\n",
    "import pandas as pd\n",
    "\n",
    "# 性別データのダミー変数化\n",
    "dmy_sex = pd.get_dummies(df.sex)\n",
    "df = pd.concat([df, dmy_sex], axis=1)\n",
    "df = df.drop(\"sex\", axis=1)\n",
    "df = df.rename(columns={\"セ\": \"gelding\", \"牝\": \"female\", \"牡\": \"male\"})\n",
    "\n",
    "# 目的変数の作成（3位以内ならゼロ、それ以外は1）\n",
    "df[\"top3\"] = np.where(df[\"rank\"]<=3, 0, 1)\n",
    "\n",
    "# 不要データの削除\n",
    "df = df.drop(\"rank\", axis=1)\n",
    "df.head()"
   ]
  },
  {
   "cell_type": "code",
   "execution_count": 6,
   "metadata": {},
   "outputs": [],
   "source": [
    "from sklearn.preprocessing import StandardScaler\n",
    "from sklearn.model_selection import train_test_split\n",
    "# データの標準化\n",
    "sc = StandardScaler()\n",
    "df_std = sc.fit_transform(df.drop(\"top3\", axis=1))\n",
    "# データの分割\n",
    "X = pd.DataFrame(df_std)\n",
    "y = df.top3\n",
    "X_train, X_test, y_train, y_test = train_test_split(X, y, random_state=0)"
   ]
  },
  {
   "cell_type": "code",
   "execution_count": 7,
   "metadata": {},
   "outputs": [
    {
     "data": {
      "text/plain": [
       "SVC(C=1.0, cache_size=200, class_weight='balanced', coef0=0.0,\n",
       "  decision_function_shape='ovr', degree=3, gamma='auto', kernel='rbf',\n",
       "  max_iter=-1, probability=False, random_state=None, shrinking=True,\n",
       "  tol=0.001, verbose=False)"
      ]
     },
     "execution_count": 7,
     "metadata": {},
     "output_type": "execute_result"
    }
   ],
   "source": [
    "# 学習（時間がかかります）\n",
    "from sklearn.svm import SVC\n",
    "from sklearn import linear_model, ensemble\n",
    "clf = SVC(kernel=\"rbf\", class_weight=\"balanced\")\n",
    "clf.fit(X_train, y_train)"
   ]
  },
  {
   "cell_type": "code",
   "execution_count": 8,
   "metadata": {},
   "outputs": [
    {
     "name": "stdout",
     "output_type": "stream",
     "text": [
      "             precision    recall  f1-score   support\n",
      "\n",
      "          0       0.38      0.83      0.52      7426\n",
      "          1       0.93      0.63      0.75     26975\n",
      "\n",
      "avg / total       0.81      0.67      0.70     34401\n",
      "\n",
      "複勝馬の的中率（Recall）: 0.831\n",
      "購入馬券の的中率（Precision）: 0.383\n"
     ]
    },
    {
     "data": {
      "image/png": "[encoded data removed]",
      "text/plain": [
       "<Figure size 180x180 with 1 Axes>"
      ]
     },
     "metadata": {},
     "output_type": "display_data"
    }
   ],
   "source": [
    "%matplotlib inline\n",
    "import matplotlib.pyplot as plt\n",
    "from mlxtend.plotting import plot_confusion_matrix\n",
    "from sklearn.metrics import confusion_matrix, classification_report\n",
    "\n",
    "y_pred = clf.predict(X_test)\n",
    "tp, fn, fp, tn = confusion_matrix(y_test, y_pred).ravel()\n",
    "\n",
    "print(classification_report(y_test, y_pred))\n",
    "recall = round(tp / (tp + fn), 3)\n",
    "precision = round(tp / (tp + fp), 3)\n",
    "print(\"複勝馬の的中率（Recall）: \" + str(recall))\n",
    "print(\"購入馬券の的中率（Precision）: \" + str(precision))\n",
    "\n",
    "# Confusion Matrixを使った精度評価\n",
    "cnf_matrix = confusion_matrix(y_test, y_pred)\n",
    "fig, ax = plot_confusion_matrix(cnf_matrix)\n",
    "plt.show()"
   ]
  },
  {
   "cell_type": "code",
   "execution_count": 9,
   "metadata": {},
   "outputs": [
    {
     "data": {
      "text/plain": [
       "<QuerySet [{'title': 'svc_v1', 'method': 'classification', 'recall': 0.831, 'precision': 0.383, 'note': \"class_weight='balanced'\"}]>"
      ]
     },
     "execution_count": 9,
     "metadata": {},
     "output_type": "execute_result"
    }
   ],
   "source": [
    "# モデルの保存\n",
    "import pickle\n",
    "\n",
    "model_name = \"svc_v1\"\n",
    "\n",
    "p = Pmodel()\n",
    "p.title = model_name\n",
    "p.model_bin = clf\n",
    "p.method = \"classification\"\n",
    "p.columns = cols\n",
    "p.recall = recall\n",
    "p.precision = precision\n",
    "p.note = \"class_weight='balanced'\"\n",
    "p.save()\n",
    "\n",
    "Pmodel.objects.filter(title=model_name).values(\"title\", \"method\", \"recall\", \"precision\", \"note\")"
   ]
  },
  {
   "cell_type": "markdown",
   "metadata": {},
   "source": [
    "## Model Execution"
   ]
  },
  {
   "cell_type": "code",
   "execution_count": 2,
   "metadata": {},
   "outputs": [],
   "source": [
    "# レース結果（出走結果のあるデータを抽出）\n",
    "from umap.uhelper import pd_result\n",
    "cols = [\"key\", \"sex\", \"age\", \"odds\"]\n",
    "df = pd_result(cols, False)\n",
    "#df.info()"
   ]
  },
  {
   "cell_type": "code",
   "execution_count": 3,
   "metadata": {},
   "outputs": [],
   "source": [
    "import numpy as np\n",
    "import pandas as pd\n",
    "\n",
    "# 性別データのダミー変数化\n",
    "dmy_sex = pd.get_dummies(df.sex)\n",
    "df = pd.concat([df, dmy_sex], axis=1)\n",
    "df = df.drop(\"sex\", axis=1)\n",
    "df = df.rename(columns={\"セ\": \"gelding\", \"牝\": \"female\", \"牡\": \"male\"})\n",
    "#df.head()"
   ]
  },
  {
   "cell_type": "code",
   "execution_count": 4,
   "metadata": {},
   "outputs": [],
   "source": [
    "from sklearn.preprocessing import StandardScaler\n",
    "from sklearn.model_selection import train_test_split\n",
    "# データの標準化\n",
    "sc = StandardScaler()\n",
    "df_std = sc.fit_transform(df.drop(\"key\", axis=1))\n",
    "# データの分割\n",
    "X = pd.DataFrame(df_std)\n",
    "y_key = df.key"
   ]
  },
  {
   "cell_type": "code",
   "execution_count": 5,
   "metadata": {},
   "outputs": [],
   "source": [
    "# モデルのロード\n",
    "p = Pmodel.objects.get(pk=\"svc_v1\")\n",
    "clf = p.model_bin\n",
    "\n",
    "# モデルの適用\n",
    "y = clf.predict(X)\n",
    "y_pred = pd.Series(y)"
   ]
  },
  {
   "cell_type": "code",
   "execution_count": 6,
   "metadata": {},
   "outputs": [],
   "source": [
    "# データセットとの結合\n",
    "rds = pd.concat([y_pred, y_key], axis=1)\n",
    "rds = rds.rename(columns={0:\"expect\"})\n",
    "rds = rds.set_index(\"key\")\n",
    "\n",
    "# True/Falseを逆転（Pythonとsciki-learnの0,1が逆のため）\n",
    "rds[\"expect\"] = np.where(rds[\"expect\"]==0, True, False)"
   ]
  },
  {
   "cell_type": "code",
   "execution_count": 7,
   "metadata": {},
   "outputs": [],
   "source": [
    "# 予測データの書き込み\n",
    "for index, row in rds.iterrows():\n",
    "    result = Result.objects.get(pk=index)\n",
    "    try:\n",
    "        exp = Expect.objects.get(pk=result)\n",
    "    except Expect.DoesNotExist:\n",
    "        exp = Expect()\n",
    "    exp.result = result\n",
    "    exp.svc_v1 = row.expect\n",
    "    exp.save()"
   ]
  }
 ],
 "metadata": {
  "kernelspec": {
   "display_name": "Django Shell-Plus",
   "language": "python",
   "name": "django_extensions"
  },
  "language_info": {
   "codemirror_mode": {
    "name": "ipython",
    "version": 3
   },
   "file_extension": ".py",
   "mimetype": "text/x-python",
   "name": "python",
   "nbconvert_exporter": "python",
   "pygments_lexer": "ipython3",
   "version": "3.6.4"
  }
 },
 "nbformat": 4,
 "nbformat_minor": 2
}
